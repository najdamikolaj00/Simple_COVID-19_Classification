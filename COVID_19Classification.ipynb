{
  "cells": [
    {
      "cell_type": "markdown",
      "metadata": {},
      "source": [
        "Notebook is Google Colaboratory friendly"
      ]
    },
    {
      "cell_type": "code",
      "execution_count": null,
      "metadata": {
        "colab": {
          "base_uri": "https://localhost:8080/"
        },
        "id": "OfxlilyeE35r",
        "outputId": "01ca3dc3-95a9-4715-d478-209f0f42e563"
      },
      "outputs": [],
      "source": [
        "from google.colab import drive\n",
        "drive.mount('/content/drive')"
      ]
    },
    {
      "cell_type": "code",
      "execution_count": null,
      "metadata": {
        "colab": {
          "base_uri": "https://localhost:8080/"
        },
        "id": "k3Ey96yeFC_9",
        "outputId": "f26ffe7f-c15b-49a6-ab54-fbbd8b51a587"
      },
      "outputs": [],
      "source": [
        "!pip install SimpleITK"
      ]
    },
    {
      "cell_type": "code",
      "execution_count": null,
      "metadata": {
        "id": "Am1eq9Z4FIHl"
      },
      "outputs": [],
      "source": [
        "import os\n",
        "import numpy as np\n",
        "import matplotlib.pyplot as plt\n",
        "\n",
        "import skimage\n",
        "import torch as tc\n",
        "import torchvision as tv\n",
        "import SimpleITK as sitk\n",
        "import sklearn.metrics as metrics\n",
        "\n",
        "from skimage.transform import resize\n",
        "from PIL import Image\n",
        "from torchvision import transforms, utils\n",
        "from torch.utils.data import Dataset, DataLoader"
      ]
    },
    {
      "cell_type": "code",
      "execution_count": null,
      "metadata": {
        "id": "3yBf8bv8R2zp"
      },
      "outputs": [],
      "source": [
        "normalize = transforms.Normalize(mean=[0.485, 0.456, 0.406], std=[0.229, 0.224, 0.225])\n",
        "train_transformer = transforms.Compose([\n",
        "    transforms.Resize(256),\n",
        "    transforms.RandomResizedCrop((224),scale=(0.5,1.0)),\n",
        "    transforms.RandomHorizontalFlip(),\n",
        "    transforms.ToTensor(),\n",
        "    normalize\n",
        "])\n",
        "\n",
        "val_transformer = transforms.Compose([\n",
        "    transforms.Resize(224),\n",
        "    transforms.CenterCrop(224),\n",
        "    transforms.ToTensor(),\n",
        "    normalize\n",
        "])"
      ]
    },
    {
      "cell_type": "code",
      "execution_count": null,
      "metadata": {
        "id": "-3OWwPSRRZ2Z"
      },
      "outputs": [],
      "source": [
        "batchsize=10\n",
        "def read_txt(txt_path):\n",
        "    with open(txt_path) as f:\n",
        "        lines = f.readlines()\n",
        "    txt_data = [line.strip() for line in lines]\n",
        "    return txt_data\n",
        "\n",
        "class CovidCTDataset(Dataset):\n",
        "    def __init__(self, root_dir, txt_COVID, txt_NonCOVID, transform=None):\n",
        "        \"\"\"\n",
        "        Args:\n",
        "            txt_path (string): Path to the txt file with annotations.\n",
        "            root_dir (string): Directory with all the images.\n",
        "            transform (callable, optional): Optional transform to be applied\n",
        "                on a sample.\n",
        "        File structure:\n",
        "        - root_dir\n",
        "            - CT_COVID\n",
        "                - img1.png\n",
        "                - img2.png\n",
        "                - ......\n",
        "            - CT_NonCOVID\n",
        "                - img1.png\n",
        "                - img2.png\n",
        "                - ......\n",
        "        \"\"\"\n",
        "        self.root_dir = root_dir\n",
        "        self.txt_path = [txt_COVID,txt_NonCOVID]\n",
        "        self.classes = ['CT_COVID', 'CT_NonCOVID']\n",
        "        self.num_cls = len(self.classes)\n",
        "        self.img_list = []\n",
        "        for c in range(self.num_cls):\n",
        "            cls_list = [[os.path.join(self.root_dir,self.classes[c],item), c] for item in read_txt(self.txt_path[c])]\n",
        "            self.img_list += cls_list\n",
        "        self.transform = transform\n",
        "\n",
        "    def __len__(self):\n",
        "        return len(self.img_list)\n",
        "\n",
        "    def __getitem__(self, idx):\n",
        "        if tc.is_tensor(idx):\n",
        "            idx = idx.tolist()\n",
        "\n",
        "        img_path = self.img_list[idx][0]\n",
        "        image = Image.open(img_path).convert('RGB')\n",
        "\n",
        "        if self.transform:\n",
        "            image = self.transform(image)\n",
        "        sample = {'img': image,\n",
        "                  'label': int(self.img_list[idx][1])}\n",
        "        return sample"
      ]
    },
    {
      "cell_type": "code",
      "execution_count": null,
      "metadata": {
        "colab": {
          "base_uri": "https://localhost:8080/"
        },
        "id": "iWQ1g9VVRkTg",
        "outputId": "9f21354b-b7a7-414e-965d-3ca9a645faec"
      },
      "outputs": [],
      "source": [
        "trainset = CovidCTDataset(root_dir='/content/drive/MyDrive/...',\n",
        "                              txt_COVID='/content/drive/MyDrive/...',\n",
        "                              txt_NonCOVID='/content/drive/MyDrive/...',\n",
        "                              transform= train_transformer)\n",
        "valset = CovidCTDataset(root_dir='/content/drive/MyDrive/...',\n",
        "                          txt_COVID='/content/drive/MyDrive/...',\n",
        "                          txt_NonCOVID='/content/drive/MyDrive/...',\n",
        "                          transform= val_transformer)\n",
        "testset = CovidCTDataset(root_dir='/content/drive/MyDrive/...',\n",
        "                          txt_COVID='/content/drive/MyDrive/...',\n",
        "                          txt_NonCOVID='/content/drive/MyDrive/...',\n",
        "                          transform= val_transformer)\n",
        "print(\"Size of training dataset: \" + str(trainset.__len__()))\n",
        "print(\"Size of validation dataset: \" + str(valset.__len__()))\n",
        "print(\"Size of testing dataset: \" + str(testset.__len__()))\n",
        "\n",
        "train_loader = DataLoader(trainset, batch_size=batchsize, drop_last=False, shuffle=True)\n",
        "val_loader = DataLoader(valset, batch_size=batchsize, drop_last=False, shuffle=False)\n",
        "test_loader = DataLoader(testset, batch_size=batchsize, drop_last=False, shuffle=False)"
      ]
    },
    {
      "cell_type": "code",
      "execution_count": null,
      "metadata": {
        "id": "kuThqth6VMjf"
      },
      "outputs": [],
      "source": [
        "image, label = next(iter(train_loader))"
      ]
    },
    {
      "cell_type": "code",
      "execution_count": null,
      "metadata": {
        "id": "X4PBGK-VpHIn"
      },
      "outputs": [],
      "source": [
        "for batch_index, batch_samples in enumerate(train_loader):      \n",
        "        data, target = batch_samples['img'], batch_samples['label']\n",
        "plt.imshow(data[0,1,:,:].numpy())"
      ]
    },
    {
      "cell_type": "code",
      "execution_count": null,
      "metadata": {
        "id": "stKtv2ZtUMs9"
      },
      "outputs": [],
      "source": [
        "class SimpleNetwork(tc.nn.Module):\n",
        "    def __init__(self):\n",
        "        super(SimpleNetwork, self).__init__()\n",
        "\n",
        "        self.layer_1 = tc.nn.Sequential(\n",
        "            tc.nn.Conv2d(3, 32, 3, 1, padding=1),\n",
        "            tc.nn.BatchNorm2d(32),\n",
        "            tc.nn.ReLU()\n",
        "        ) \n",
        "        self.layer_2 = tc.nn.Sequential(\n",
        "            tc.nn.Conv2d(32, 32, 3, stride=2, padding=1),\n",
        "            tc.nn.BatchNorm2d(32),\n",
        "            tc.nn.ReLU()\n",
        "        )\n",
        "        self.layer_3 = tc.nn.Sequential(\n",
        "            tc.nn.Conv2d(32, 64, 3, stride=1, padding=1),\n",
        "            tc.nn.BatchNorm2d(64),\n",
        "            tc.nn.ReLU()\n",
        "        )\n",
        "        self.layer_4 = tc.nn.Sequential(\n",
        "            tc.nn.Conv2d(64, 64, 3, stride=2, padding=1),\n",
        "            tc.nn.BatchNorm2d(64),\n",
        "            tc.nn.ReLU()\n",
        "        )\n",
        "        self.layer_5 = tc.nn.Sequential(\n",
        "            tc.nn.Conv2d(64, 128, 3, stride=1, padding=1),\n",
        "            tc.nn.BatchNorm2d(128),\n",
        "            tc.nn.ReLU()\n",
        "        )\n",
        "        self.layer_6 = tc.nn.Sequential(\n",
        "            tc.nn.Conv2d(128, 128, 3, stride=2, padding=1),\n",
        "            tc.nn.BatchNorm2d(128),\n",
        "            tc.nn.ReLU()\n",
        "        )\n",
        "        self.layer_7 = tc.nn.Sequential(\n",
        "            tc.nn.Conv2d(128, 128, 3, stride=1, padding=1),\n",
        "            tc.nn.BatchNorm2d(128),\n",
        "            tc.nn.ReLU()\n",
        "        )\n",
        "        self.avg_pool = tc.nn.Sequential(tc.nn.AvgPool2d(1,1))\n",
        "        self.last_layer = tc.nn.Sequential(\n",
        "            tc.nn.Linear(128*28*28, 4)\n",
        "        )\n",
        "\n",
        "    def forward(self, x):\n",
        "        x = self.layer_1(x)\n",
        "        x = self.layer_2(x)\n",
        "        x = self.layer_3(x)\n",
        "        x = self.layer_4(x)\n",
        "        x = self.layer_5(x)\n",
        "        x = self.layer_6(x)\n",
        "        x = self.layer_7(x)\n",
        "        x = self.avg_pool(x)\n",
        "        x = x.view(-1, 128*28*28)\n",
        "        x = self.last_layer(x)\n",
        "        return x"
      ]
    },
    {
      "cell_type": "code",
      "execution_count": null,
      "metadata": {
        "colab": {
          "base_uri": "https://localhost:8080/"
        },
        "id": "QpMLRvhpsM6s",
        "outputId": "d60b3493-b162-4e21-afeb-3cbfcb6a8905"
      },
      "outputs": [],
      "source": [
        "model = SimpleNetwork()\n",
        "for batch_index, batch_samples in enumerate(train_loader):      \n",
        "    data, target = batch_samples['img'], batch_samples['label']\n",
        "    output = model(data)\n",
        "    print(f\"Output: {tc.nn.Sigmoid()(output)}\")"
      ]
    },
    {
      "cell_type": "code",
      "execution_count": null,
      "metadata": {
        "id": "j5Rkn_DGsZsT"
      },
      "outputs": [],
      "source": [
        "learning_rate = 0.003\n",
        "batch_size = 10\n",
        "num_epochs = 100\n",
        "objective_function = tc.nn.CrossEntropyLoss()\n",
        "model = SimpleNetwork()\n",
        "parameters = model.parameters()\n",
        "optimizer = tc.optim.Adam(parameters, lr=learning_rate)\n",
        "device = \"cuda:0\"\n"
      ]
    },
    {
      "cell_type": "code",
      "execution_count": null,
      "metadata": {
        "colab": {
          "base_uri": "https://localhost:8080/"
        },
        "id": "iBgQ2gaAeUWf",
        "outputId": "bd25a7a1-e8f7-40e8-dcdc-0aecba66eea9"
      },
      "outputs": [],
      "source": [
        "%tensorflow_version 2.x\n",
        "import tensorflow as tf\n",
        "device_name = tf.test.gpu_device_name()\n",
        "if device_name != '/device:GPU:0':\n",
        "  raise SystemError('GPU device not found')\n",
        "print('Found GPU at: {}'.format(device_name))"
      ]
    },
    {
      "cell_type": "code",
      "execution_count": null,
      "metadata": {
        "colab": {
          "base_uri": "https://localhost:8080/"
        },
        "id": "ADAmRd3VvxOS",
        "outputId": "b7b833f6-24eb-4b54-9b1f-33f08f5693d4"
      },
      "outputs": [],
      "source": [
        "tc.cuda.get_device_properties(device)"
      ]
    },
    {
      "cell_type": "code",
      "execution_count": null,
      "metadata": {
        "colab": {
          "base_uri": "https://localhost:8080/",
          "height": 1000
        },
        "id": "0LaeeKMBvznC",
        "outputId": "b5443491-9d3d-4644-b501-50c3259ecda1"
      },
      "outputs": [],
      "source": [
        "losses = []\n",
        "model = model.to(device)\n",
        "model.train()\n",
        "print(f\"Dataset size: {len(train_loader.dataset)}\")\n",
        "for epoch in range(num_epochs):\n",
        "    print(f\"Current epoch: {epoch}\")\n",
        "    epoch_loss = 0.0\n",
        "    for batch_index, batch_samples in enumerate(train_loader):\n",
        "        data, target = batch_samples['img'], batch_samples['label']\n",
        "        data, target = data.to(device), target.to(device)\n",
        "        output = model(data)\n",
        "        loss = objective_function(output, target)\n",
        "        loss.backward()\n",
        "        optimizer.step()\n",
        "        optimizer.zero_grad()\n",
        "        epoch_loss += loss.item() * data.size(0)\n",
        "    epoch_loss = epoch_loss / len(train_loader.dataset)\n",
        "    losses.append(epoch_loss)\n",
        "    print(f\"Current epoch loss: {epoch_loss}\")\n",
        "\n",
        "\n",
        "plt.figure()\n",
        "plt.plot(losses, \"r-\")\n",
        "plt.xlabel(\"Epoch\")\n",
        "plt.ylabel(\"Loss\")\n",
        "plt.grid(True)\n",
        "plt.show()"
      ]
    },
    {
      "cell_type": "code",
      "execution_count": null,
      "metadata": {
        "colab": {
          "base_uri": "https://localhost:8080/"
        },
        "id": "NY0Nguy2dXJT",
        "outputId": "9070b54f-7dc8-4a77-d844-941e88810d03"
      },
      "outputs": [],
      "source": [
        "predictions = []\n",
        "targets = []\n",
        "model.eval()\n",
        "with tc.set_grad_enabled(False):\n",
        "    print(f\"Dataset size: {len(test_loader.dataset)}\")\n",
        "    for batch_index, batch_samples in enumerate(train_loader):\n",
        "        data, target = batch_samples['img'], batch_samples['label']\n",
        "        data, target = data.to(device), target.to(device)\n",
        "        output = model(data)\n",
        "        prediction = tc.argmax(tc.nn.Sigmoid()(output), dim=1)\n",
        "        predictions.extend(prediction.cpu().numpy().tolist())\n",
        "        targets.extend(target.cpu().numpy().tolist())\n",
        "\n",
        "\n",
        "print(\"Testing confusion matrix: \\n\", metrics.confusion_matrix(targets, predictions))\n",
        "print(\"Testing classification report: \\n\", metrics.classification_report(targets, predictions))"
      ]
    },
    {
      "cell_type": "code",
      "execution_count": null,
      "metadata": {
        "colab": {
          "base_uri": "https://localhost:8080/"
        },
        "id": "9tekG02AiMGi",
        "outputId": "d6e75b6a-fff1-4f31-a3dd-d06ce8d097fb"
      },
      "outputs": [],
      "source": [
        "print(\"AUC: \\n\", metrics.roc_auc_score(targets, predictions))"
      ]
    },
    {
      "cell_type": "code",
      "execution_count": null,
      "metadata": {
        "colab": {
          "base_uri": "https://localhost:8080/"
        },
        "id": "ix7so6dGlFXQ",
        "outputId": "e0956efe-8a80-4209-edfd-5c70fe44f34a"
      },
      "outputs": [],
      "source": [
        "print(\"ACC: \\n\", metrics.accuracy_score(targets, predictions))"
      ]
    },
    {
      "cell_type": "code",
      "execution_count": null,
      "metadata": {
        "colab": {
          "base_uri": "https://localhost:8080/"
        },
        "id": "KUheSyf0lV9o",
        "outputId": "cb915c54-eb56-498f-86da-d27e7c0dae06"
      },
      "outputs": [],
      "source": [
        "print(\"F1: \\n\", metrics.f1_score(targets, predictions))"
      ]
    },
    {
      "cell_type": "code",
      "execution_count": null,
      "metadata": {
        "colab": {
          "base_uri": "https://localhost:8080/",
          "height": 279
        },
        "id": "v1epCOcYqgJ1",
        "outputId": "4ece1345-ed1d-47a5-dd86-ac3d40a811c1"
      },
      "outputs": [],
      "source": [
        "fpr, tpr, thresholds = metrics.roc_curve(targets, predictions)\n",
        "roc_auc = metrics.auc(fpr, tpr)\n",
        "display = metrics.RocCurveDisplay(fpr=fpr, tpr=tpr, roc_auc=roc_auc)\n",
        "display.plot(color = 'red')\n",
        "plt.show()"
      ]
    },
    {
      "cell_type": "code",
      "execution_count": null,
      "metadata": {
        "colab": {
          "base_uri": "https://localhost:8080/",
          "height": 279
        },
        "id": "uj4qOG4SVl0D",
        "outputId": "aa5720e7-bab0-4b24-c7b3-6f4471a43535"
      },
      "outputs": [],
      "source": [
        "cm = metrics.confusion_matrix(targets, predictions)\n",
        "disp = metrics.ConfusionMatrixDisplay(confusion_matrix=cm)\n",
        "disp.plot()\n",
        "plt.show()"
      ]
    },
    {
      "cell_type": "code",
      "execution_count": null,
      "metadata": {
        "id": "hJ5Qb2W8XP2p"
      },
      "outputs": [],
      "source": []
    }
  ],
  "metadata": {
    "accelerator": "GPU",
    "colab": {
      "name": "COVID-19Classification.ipynb",
      "provenance": []
    },
    "interpreter": {
      "hash": "f6c8f846148a3e4d140e6ddf63c190cff559dcf260a4a21539f0978f2b58638c"
    },
    "kernelspec": {
      "display_name": "Python 3.9.10 64-bit",
      "language": "python",
      "name": "python3"
    },
    "language_info": {
      "name": "python",
      "version": "3.9.10"
    }
  },
  "nbformat": 4,
  "nbformat_minor": 0
}
